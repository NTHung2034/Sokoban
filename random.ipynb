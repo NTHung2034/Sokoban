{
 "cells": [
  {
   "cell_type": "code",
   "execution_count": 5,
   "metadata": {},
   "outputs": [
    {
     "name": "stdout",
     "output_type": "stream",
     "text": [
      "Loaded wall.png for tile '#' successfully.\n",
      "Loaded free_space.png for tile ' ' successfully.\n",
      "Loaded ares.png for tile '@' successfully.\n",
      "Loaded stone.png for tile '$' successfully.\n",
      "Loaded switch.png for tile '.' successfully.\n",
      "Loaded stone_on_switch.png for tile '*' successfully.\n",
      "Loaded ares_on_switch.png for tile '+' successfully.\n"
     ]
    }
   ],
   "source": [
    "import tkinter as tk\n",
    "from PIL import Image, ImageTk\n",
    "import os\n",
    "\n",
    "class TileLoaderTester:\n",
    "    def __init__(self, root):\n",
    "        self.root = root\n",
    "        self.root.title(\"Tile Loading Test\")\n",
    "        \n",
    "        # Path to the tileset folder\n",
    "        self.tileset_path = \"tileset\"\n",
    "        \n",
    "        # Initialize the tile images dictionary\n",
    "        self.tile_images = {}\n",
    "\n",
    "        # Load and display tiles\n",
    "        self.load_tileset()\n",
    "        self.display_tiles()\n",
    "\n",
    "    def load_tileset(self):\n",
    "        # Define expected tiles with their file names\n",
    "        tiles = {\n",
    "            '#': \"wall.png\",\n",
    "            ' ': \"free_space.png\",\n",
    "            '@': \"ares.png\",\n",
    "            '$': \"stone.png\",\n",
    "            '.': \"switch.png\",\n",
    "            '*': \"stone_on_switch.png\",\n",
    "            '+': \"ares_on_switch.png\"\n",
    "        }\n",
    "        \n",
    "        # Load each tile and store it in the dictionary\n",
    "        for key, filename in tiles.items():\n",
    "            image_path = os.path.join(self.tileset_path, filename)\n",
    "            try:\n",
    "                image = Image.open(image_path)\n",
    "                self.tile_images[key] = ImageTk.PhotoImage(image)\n",
    "                print(f\"Loaded {filename} for tile '{key}' successfully.\")\n",
    "            except Exception as e:\n",
    "                print(f\"Error loading {filename}: {e}\")\n",
    "\n",
    "    def display_tiles(self):\n",
    "        # Create a canvas to display the tiles\n",
    "        canvas = tk.Canvas(self.root, width=400, height=400, bg=\"lightgray\")\n",
    "        canvas.grid(row=0, column=0)\n",
    "\n",
    "        # Display each tile in a 3x3 grid for testing\n",
    "        cell_size = 100  # Define cell size for the test display\n",
    "        row, col = 0, 0\n",
    "        \n",
    "        for key, image in self.tile_images.items():\n",
    "            x = col * cell_size\n",
    "            y = row * cell_size\n",
    "            canvas.create_image(x, y, anchor=\"nw\", image=image)\n",
    "            canvas.create_text(x + cell_size / 2, y + cell_size + 10, text=key, font=(\"Arial\", 12))\n",
    "            col += 1\n",
    "            if col >= 3:  # Arrange tiles in 3 columns\n",
    "                col = 0\n",
    "                row += 1\n",
    "\n",
    "# Run the test\n",
    "def main():\n",
    "    root = tk.Tk()\n",
    "    app = TileLoaderTester(root)\n",
    "    root.mainloop()\n",
    "\n",
    "if __name__ == \"__main__\":\n",
    "    main()\n"
   ]
  }
 ],
 "metadata": {
  "kernelspec": {
   "display_name": "search_project",
   "language": "python",
   "name": "python3"
  },
  "language_info": {
   "codemirror_mode": {
    "name": "ipython",
    "version": 3
   },
   "file_extension": ".py",
   "mimetype": "text/x-python",
   "name": "python",
   "nbconvert_exporter": "python",
   "pygments_lexer": "ipython3",
   "version": "3.12.7"
  }
 },
 "nbformat": 4,
 "nbformat_minor": 2
}
